{
 "cells": [
  {
   "cell_type": "code",
   "execution_count": 2,
   "id": "e4db329b",
   "metadata": {},
   "outputs": [],
   "source": [
    "# Garry Clawson\n",
    "# AAI - Assignment 2\n",
    "# Boxplots for results"
   ]
  },
  {
   "cell_type": "code",
   "execution_count": null,
   "id": "ff470cc1",
   "metadata": {},
   "outputs": [],
   "source": []
  }
 ],
 "metadata": {
  "kernelspec": {
   "display_name": "Python 3 (ipykernel)",
   "language": "python",
   "name": "python3"
  },
  "language_info": {
   "codemirror_mode": {
    "name": "ipython",
    "version": 3
   },
   "file_extension": ".py",
   "mimetype": "text/x-python",
   "name": "python",
   "nbconvert_exporter": "python",
   "pygments_lexer": "ipython3",
   "version": "3.10.0"
  }
 },
 "nbformat": 4,
 "nbformat_minor": 5
}
